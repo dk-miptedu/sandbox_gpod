{
 "cells": [
  {
   "cell_type": "code",
   "execution_count": null,
   "metadata": {},
   "outputs": [],
   "source": [
    "import random\n",
    "import string\n",
    "\n",
    "def generate_password(length):\n",
    "    if length < 4:\n",
    "        raise ValueError(\"Password length must be at least 4 characters to include all character types.\")\n",
    "    \n",
    "    # Define character sets\n",
    "    upper = string.ascii_uppercase\n",
    "    lower = string.ascii_lowercase\n",
    "    digits = string.digits\n",
    "    special = string.punctuation\n",
    "    \n",
    "    # Ensure the password contains at least one of each character set\n",
    "    all_characters = upper + lower + digits + special\n",
    "    password = [\n",
    "        random.choice(upper),\n",
    "        random.choice(lower),\n",
    "        random.choice(digits),\n",
    "        random.choice(special)\n",
    "    ]\n",
    "    \n",
    "    # Fill the rest of the password length with random choices from all characters\n",
    "    password += random.choices(all_characters, k=length-4)\n",
    "    \n",
    "    # Shuffle the password list to ensure randomness\n",
    "    random.shuffle(password)\n",
    "    \n",
    "    return ''.join(password)\n",
    "\n",
    "def generate_password_list(count, length):\n",
    "    return [generate_password(length) for _ in range(count)]\n",
    "\n"
   ]
  },
  {
   "cell_type": "code",
   "execution_count": null,
   "metadata": {},
   "outputs": [],
   "source": [
    "# Example usage\n",
    "num_passwords = 10\n",
    "password_length = 12\n",
    "password_list = generate_password_list(num_passwords, password_length)\n",
    "\n",
    "for i, pwd in enumerate(password_list, 1):\n",
    "    print(f\"Password {i}: {pwd}\")"
   ]
  }
 ],
 "metadata": {
  "language_info": {
   "name": "python"
  }
 },
 "nbformat": 4,
 "nbformat_minor": 2
}
