{
 "cells": [
  {
   "cell_type": "code",
   "execution_count": 31,
   "metadata": {},
   "outputs": [],
   "source": [
    "import random\n",
    "import string\n",
    "\n",
    "def generate_login(length):\n",
    "    if length < 4:\n",
    "        raise ValueError(\"Password length must be at least 4 characters to include all character types.\")\n",
    "    \n",
    "    # Define character sets\n",
    "    upper = string.ascii_uppercase\n",
    "    lower = string.ascii_lowercase\n",
    "    digits = string.digits\n",
    "    special = '#$%!@'\n",
    "    \n",
    "    # Ensure the password contains at least one of each character set\n",
    "    all_characters = upper + lower + digits #+ special\n",
    "    password = [\n",
    "        random.choice(upper),\n",
    "        random.choice(lower),\n",
    "        random.choice(digits)\n",
    "    ]\n",
    "    \n",
    "    # Fill the rest of the password length with random choices from all characters\n",
    "    password += random.choices(all_characters, k=length-4)\n",
    "    \n",
    "    # Shuffle the password list to ensure randomness\n",
    "    random.shuffle(password)\n",
    "    \n",
    "    return ''.join(password)\n",
    "\n",
    "def generate_password(length):\n",
    "    if length < 4:\n",
    "        raise ValueError(\"Password length must be at least 4 characters to include all character types.\")\n",
    "    \n",
    "    # Define character sets\n",
    "    upper = string.ascii_uppercase\n",
    "    lower = string.ascii_lowercase\n",
    "    digits = string.digits\n",
    "    special = '#$%!@'\n",
    "    \n",
    "    # Ensure the password contains at least one of each character set\n",
    "    all_characters = upper + lower + digits + special\n",
    "    password = [\n",
    "        random.choice(upper),\n",
    "        random.choice(lower),\n",
    "        random.choice(digits),\n",
    "        random.choice(special)\n",
    "    ]\n",
    "    \n",
    "    # Fill the rest of the password length with random choices from all characters\n",
    "    password += random.choices(all_characters, k=length-4)\n",
    "    \n",
    "    # Shuffle the password list to ensure randomness\n",
    "    random.shuffle(password)\n",
    "    \n",
    "    return ''.join(password)\n",
    "\n",
    "def generate_login_password_pair(length, login_prefix, count):\n",
    "    pairs = []\n",
    "    login_prefix_len = len(login_prefix)\n",
    "    for i in range(count):\n",
    "        login = f\"{login_prefix[0]}{generate_login(login_prefix_len)}\"\n",
    "        password = generate_password(length)\n",
    "        pairs.append((login, password))\n",
    "    return pairs\n",
    "\n",
    "\n"
   ]
  },
  {
   "cell_type": "code",
   "execution_count": 37,
   "metadata": {},
   "outputs": [
    {
     "name": "stdout",
     "output_type": "stream",
     "text": [
      "dumbproxy -passwd /etc/dumbproxy.htpasswd 'qw4jE4LD' 'fTX5o%A8$mDl'\n",
      "dumbproxy -passwd /etc/dumbproxy.htpasswd 'qR2vwVvg' 'YbNti#wDRS8e'\n",
      "dumbproxy -passwd /etc/dumbproxy.htpasswd 'qp9F4OSc' 'B$f25kolszcN'\n",
      "dumbproxy -passwd /etc/dumbproxy.htpasswd 'qwhQFaW4' 'T!8@8h#5r6Ls'\n",
      "dumbproxy -passwd /etc/dumbproxy.htpasswd 'qifxoQm8' 'Xc2TB9aCwE1#'\n",
      "dumbproxy -passwd /etc/dumbproxy.htpasswd 'qdstx65M' 'G@#H9A7xPXal'\n",
      "dumbproxy -passwd /etc/dumbproxy.htpasswd 'qljbu9GF' 'AEuFZ9UjG8%!'\n",
      "dumbproxy -passwd /etc/dumbproxy.htpasswd 'qdzKA4EB' '5xSGEME1$@vW'\n",
      "dumbproxy -passwd /etc/dumbproxy.htpasswd 'q9vCkPhO' 'VnAFEWc3!6D6'\n",
      "dumbproxy -passwd /etc/dumbproxy.htpasswd 'q7YPxsW2' '2gQoL#l4Mz8r'\n"
     ]
    }
   ],
   "source": [
    "# Example usage\n",
    "num_pairs = 10\n",
    "password_length = 12\n",
    "login_prefix = \"qsername\"\n",
    "\n",
    "login_password_pairs = generate_login_password_pair(password_length, login_prefix, num_pairs)\n",
    "\n",
    "for login, password in login_password_pairs:\n",
    "    print(f\"dumbproxy -passwd /etc/dumbproxy.htpasswd '{login}' '{password}'\")"
   ]
  }
 ],
 "metadata": {
  "kernelspec": {
   "display_name": "Python 3",
   "language": "python",
   "name": "python3"
  },
  "language_info": {
   "codemirror_mode": {
    "name": "ipython",
    "version": 3
   },
   "file_extension": ".py",
   "mimetype": "text/x-python",
   "name": "python",
   "nbconvert_exporter": "python",
   "pygments_lexer": "ipython3",
   "version": "3.12.3"
  }
 },
 "nbformat": 4,
 "nbformat_minor": 2
}
